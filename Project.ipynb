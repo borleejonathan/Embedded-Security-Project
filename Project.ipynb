{
 "cells": [
  {
   "cell_type": "markdown",
   "id": "89f47b54-3398-4865-b76c-81ff13569c6f",
   "metadata": {},
   "source": [
    "First you'll need to select which hardware setup you have. You'll need to select both a SCOPETYPE and a PLATFORM. SCOPETYPE can either be 'OPENADC' for the CWLite/CW1200 or 'CWNANO' for the CWNano. PLATFORM is the target device, with 'CWLITEARM'/'CW308_STM32F3' being the best supported option, followed by 'CWLITEXMEGA'/'CW308_XMEGA', then by 'CWNANO'. As of CW 5.4, you can select the SimpleSerial version used. For example:"
   ]
  },
  {
   "cell_type": "code",
   "execution_count": null,
   "id": "e796a699-ac48-433a-bb9c-8e2c52e2c990",
   "metadata": {},
   "outputs": [],
   "source": [
    "SCOPETYPE = 'OPENADC'\n",
    "PLATFORM = 'CWNANO'\n",
    "SS_VER = 'SS_VER_2_1'"
   ]
  },
  {
   "cell_type": "markdown",
   "id": "29d265da-8ea7-4fe6-bb7e-af12ae561276",
   "metadata": {},
   "source": [
    "This code will connect the scope and do some basic setup. We're now just going to use a special setup script to do this. This script contains the commands we ran seperately before."
   ]
  },
  {
   "cell_type": "code",
   "execution_count": null,
   "id": "af6402c8-f86b-44d0-bd0d-10caea0f6645",
   "metadata": {},
   "outputs": [],
   "source": [
    "%run \"../../Setup_Scripts/Setup_Generic.ipynb\""
   ]
  },
  {
   "cell_type": "markdown",
   "id": "e98090e0-cf09-48da-b7eb-d23337f64536",
   "metadata": {},
   "source": [
    "The following code will build the firmware for the target."
   ]
  },
  {
   "cell_type": "code",
   "execution_count": null,
   "id": "16495f1d-116a-40ff-826d-d7637747e0bf",
   "metadata": {},
   "outputs": [],
   "source": [
    "%%bash -s \"$PLATFORM\" \"$SS_VER\"\n",
    "cd ../../../firmware/mcu/basic-passwdcheck\n",
    "make PLATFORM=CWNANO CRYPTO_TARGET=NONE SS_VER=SS_VER_2_1 -j V=1"
   ]
  },
  {
   "cell_type": "markdown",
   "id": "cf465d1b-6cea-4595-a62d-6477fa350925",
   "metadata": {},
   "source": [
    "This script uses the ChipWhisperer API to connect to the vault over the serial link, read the boot message, send an incorrect password, and capture the response — the goal is to obtain a “fail” reference trace useful for locating the verification routine, synchronizing the scope trigger, and serving as a baseline for SPA/CPA analysis."
   ]
  },
  {
   "cell_type": "code",
   "execution_count": null,
   "id": "ec7ddb26-9a62-4ac0-a3b9-dfa7178cc831",
   "metadata": {},
   "outputs": [],
   "source": [
    "import chipwhisperer as cw\n",
    " \n",
    "scope = cw.scope()\n",
    "target = cw.target(scope, cw.targets.SimpleSerial2)\n",
    "target.baud = 9600\n",
    "\n",
    "# Use the raw serial object, not SimpleSerial parsing\n",
    "print(\"Boot message:\", target.ser.read(50))   # read up to 50 bytes\n",
    " \n",
    "# Send a wrong password\n",
    "target.ser.write(b\"1234\\n\")\n",
    "print(\"Response:\", target.ser.read(50))\n",
    "scope.dis()"
   ]
  }
 ],
 "metadata": {
  "kernelspec": {
   "display_name": "Python 3 (ipykernel)",
   "language": "python",
   "name": "python3"
  },
  "language_info": {
   "codemirror_mode": {
    "name": "ipython",
    "version": 3
   },
   "file_extension": ".py",
   "mimetype": "text/x-python",
   "name": "python",
   "nbconvert_exporter": "python",
   "pygments_lexer": "ipython3",
   "version": "3.12.9"
  }
 },
 "nbformat": 4,
 "nbformat_minor": 5
}
